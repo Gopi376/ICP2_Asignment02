{
  "nbformat": 4,
  "nbformat_minor": 0,
  "metadata": {
    "colab": {
      "provenance": []
    },
    "kernelspec": {
      "name": "python3",
      "display_name": "Python 3"
    },
    "language_info": {
      "name": "python"
    }
  },
  "cells": [
    {
      "cell_type": "code",
      "execution_count": 32,
      "metadata": {
        "colab": {
          "base_uri": "https://localhost:8080/"
        },
        "id": "P51IDatPouMN",
        "outputId": "ed921472-e5de-4158-8771-42f1cd43b477"
      },
      "outputs": [
        {
          "output_type": "stream",
          "name": "stdout",
          "text": [
            "Gopi\n",
            "Palepu\n",
            "Gopi Palepu\n",
            "Gp aeu\n"
          ]
        }
      ],
      "source": [
        "#Question 01\n",
        "\n",
        "#Function for FULL_name\n",
        "#It takes two arguments named first and last.\n",
        "#It returns the full name by concatinationg both strings.\n",
        "def fullname(first,last):\n",
        "    return first+\" \"+last\n",
        "\n",
        "#String_alternative function.\n",
        "def string_alternative(Full_name):\n",
        "    ans = \"\"\n",
        "    for i in Full_name[::2]:\n",
        "        ans+=i\n",
        "\n",
        "    return ans\n",
        "\n",
        "#Input for first name\n",
        "First_name = input()\n",
        "\n",
        "#Input for last name\n",
        "Last_name = input()\n",
        "\n",
        "Full_name = fullname(First_name,Last_name) #Function call which returns fullname\n",
        "print(Full_name)\n",
        "\n",
        "AlternameString = string_alternative(Full_name)\n",
        "print(AlternameString)"
      ]
    },
    {
      "cell_type": "code",
      "source": [
        "Input_file = open(\"input.txt\", \"r\")\n",
        "#Write the number of words count and split the data from input file\n",
        "output_file = open(\"output.txt\", \"w\")\n",
        "\n",
        "content = {}\n",
        "\n",
        "\n",
        "for line in Input_file:\n",
        "    output_file.write(line)\n",
        "    new_l = line.split()\n",
        "    for x in new_l:\n",
        "        if(content.get(x)==None):\n",
        "            content[x]=1\n",
        "        else:\n",
        "            content[x] = content[x] + 1\n",
        "\n",
        "output_file.write(\" Word_Count : \")\n",
        "for key, value in content.items():\n",
        "        output_file.write('%s:%s\\n' % (key, value))\n",
        "Input_file.close()\n",
        "output_file.close()"
      ],
      "metadata": {
        "id": "5zOzc96UuZL9"
      },
      "execution_count": 37,
      "outputs": []
    },
    {
      "cell_type": "code",
      "source": [
        "inchesList = list(map(int, input().split(\",\")))\n",
        "cmList = []\n",
        "cmList_comprehensions = []\n",
        "\n",
        "def inchToCm(inch):\n",
        "  return (inch * 2.54)\n",
        "\n",
        "# Nested Interactive loop\n",
        "for i in inchesList :\n",
        "    cmList.append(inchToCm(i))\n",
        "\n",
        "print (\"Nested Interactive loop : \\n\", cmList)\n",
        "\n",
        "# List Comprehension\n",
        "cmList_comprehensions = [inchToCm(inch) for inch in inchesList]\n",
        "\n",
        "\n",
        "print (\"List Comprehension : \\n\", cmList_comprehensions)"
      ],
      "metadata": {
        "colab": {
          "base_uri": "https://localhost:8080/"
        },
        "id": "WY-bX-3oxZuB",
        "outputId": "e2ec1457-62a1-4143-fb3f-e11e2bb63c22"
      },
      "execution_count": 35,
      "outputs": [
        {
          "output_type": "stream",
          "name": "stdout",
          "text": [
            "2, 4, 6, 8\n",
            "Nested Interactive loop : \n",
            " [5.08, 10.16, 15.24, 20.32]\n",
            "List Comprehension : \n",
            " [5.08, 10.16, 15.24, 20.32]\n"
          ]
        }
      ]
    }
  ]
}